{
  "nbformat": 4,
  "nbformat_minor": 0,
  "metadata": {
    "colab": {
      "provenance": []
    },
    "kernelspec": {
      "name": "python3",
      "display_name": "Python 3"
    },
    "language_info": {
      "name": "python"
    }
  },
  "cells": [
    {
      "cell_type": "code",
      "execution_count": null,
      "metadata": {
        "id": "IH43ilcSAtBY"
      },
      "outputs": [],
      "source": [
        "import pandas as pd\n",
        "import numpy as np\n",
        "import re\n",
        "import nltk\n",
        "from sklearn.model_selection import train_test_split\n",
        "from gensim.scripts.glove2word2vec import glove2word2vec\n",
        "#!pip install contractions\n",
        "import contractions\n",
        "# nltk.download('wordnet')\n",
        "# nltk.download('stopwords')\n",
        "# nltk.download('omw-1.4')\n",
        "from nltk.corpus import stopwords\n",
        "# !wget http://nlp.stanford.edu/data/glove.6B.zip\n",
        "# !unzip glove*.zip\n",
        "import torch\n",
        "import torch.nn as nn\n",
        "# !pip install torchmetrics\n",
        "import torchmetrics\n",
        "from torchmetrics import F1Score\n",
        "from torchmetrics import Accuracy\n",
        "from torchmetrics import Precision\n",
        "from torchmetrics import Recall\n",
        "from torchmetrics import ROC\n",
        "from torchmetrics.classification import BinaryROC\n",
        "\n",
        "import matplotlib.pyplot as plt\n",
        "from matplotlib.pyplot import figure\n",
        "from collections import Counter\n",
        "import string"
      ]
    },
    {
      "cell_type": "code",
      "source": [
        "df = pd.read_csv('drive/MyDrive/imdb-reviews.csv', sep='\\t')\n",
        "\n",
        "# download trained model\n",
        "model = torch.jit.load('myNN.pt')\n",
        "\n",
        "test_df = None\n",
        "\n",
        "df"
      ],
      "metadata": {
        "id": "_7kM6MkXA-2y"
      },
      "execution_count": null,
      "outputs": []
    },
    {
      "cell_type": "markdown",
      "source": [
        "#Pre-Processing"
      ],
      "metadata": {
        "id": "2YyRGVYUBGvd"
      }
    },
    {
      "cell_type": "code",
      "source": [
        "def remove_cols(df):\n",
        "  # διώχνω τα άχρηστα δεδομένα πχ. url rating\n",
        "  df = df.drop(['url'], axis=1)\n",
        "\n",
        "  # add sentiment col 0 for negative 1 for positive\n",
        "  df['sentiment'] = np.where(df['rating']>4.0, 1, 0)\n",
        "\n",
        "  # no more need for col rating\n",
        "  df = df.drop(['rating'], axis=1)\n",
        "\n",
        "  return df\n",
        "\n",
        "df = remove_cols(df)\n",
        "\n",
        "if test_df is not None:\n",
        "  test_df = remove_cols(test_df)"
      ],
      "metadata": {
        "id": "D-J9vqKwBJBc"
      },
      "execution_count": null,
      "outputs": []
    },
    {
      "cell_type": "code",
      "source": [
        "df['review'] = df['review'].str.lower()\n",
        "df['review'] = df['review'].replace('<br />', ' ', regex=True)\n",
        "df['review'] = df['review'].replace('<[^<]+?>', '', regex=True)\n",
        "\n",
        "if test_df is not None:\n",
        "  test_df['review'] = test_df['review'].str.lower()\n",
        "  test_df['review'] = test_df['review'].replace('<br />', ' ', regex=True)\n",
        "  test_df['review'] = test_df['review'].replace('<[^<]+?>', '', regex=True)\n",
        "\n",
        "def clean_review(review):\n",
        "  review = re.sub(r'[^a-zA-Z0-9\\s]', '', review)\n",
        "\n",
        "  return review\n",
        "\n",
        "df['review'] = df['review'].apply(lambda x:''.join([i for i in x if i not in string.punctuation]))\n",
        "\n",
        "df['review'] = df['review'].apply(lambda x: clean_review(x))\n",
        "\n",
        "if test_df is not None:\n",
        "  test_df['review'] = test_df['review'].apply(lambda x:''.join([i for i in x if i not in string.punctuation]))\n",
        "\n",
        "  test_df['review'] = test_df['review'].apply(lambda x: clean_review(x))\n",
        "\n",
        "df"
      ],
      "metadata": {
        "id": "JWQdB6rcBKGS"
      },
      "execution_count": null,
      "outputs": []
    },
    {
      "cell_type": "code",
      "source": [
        "def expand_contractions(review):\n",
        "  return contractions.fix(review)\n",
        "\n",
        "df['review'] = df['review'].apply(lambda x: expand_contractions(x))\n",
        "\n",
        "if test_df is not None:\n",
        "  test_df['review'] = test_df['review'].apply(lambda x: expand_contractions(x))\n",
        "\n",
        "df"
      ],
      "metadata": {
        "id": "RslK5annBMyb"
      },
      "execution_count": null,
      "outputs": []
    },
    {
      "cell_type": "code",
      "source": [
        "stop_words = stopwords.words('english')\n",
        "stopwords_dict = Counter(stop_words)  # dictionary for faster lookup\n",
        "\n",
        "def remove_stopwords(review):\n",
        "  return ' '.join([word for word in review.split() if word not in stopwords_dict])\n",
        "\n",
        "df['review'] = df['review'].apply(lambda x: remove_stopwords(x))\n",
        "\n",
        "if test_df is not None:\n",
        "  test_df['review'] = test_df['review'].apply(lambda x: remove_stopwords(x))"
      ],
      "metadata": {
        "id": "Z6iJKU55BSbv"
      },
      "execution_count": null,
      "outputs": []
    },
    {
      "cell_type": "code",
      "source": [
        "def remove_dups(review):\n",
        "  return ' '.join(dict.fromkeys(review.split()))\n",
        "\n",
        "df['review'] = df['review'].apply(lambda x: remove_dups(x))\n",
        "\n",
        "if test_df is not None:\n",
        "  test_df['review'] = test_df['review'].apply(lambda x: remove_dups(x))"
      ],
      "metadata": {
        "id": "9zT2YlgBBWSN"
      },
      "execution_count": null,
      "outputs": []
    },
    {
      "cell_type": "code",
      "source": [
        "tokenizer = nltk.tokenize.WhitespaceTokenizer()"
      ],
      "metadata": {
        "id": "ZkNNKCZUBXC3"
      },
      "execution_count": null,
      "outputs": []
    },
    {
      "cell_type": "code",
      "source": [
        "lemmatizer = nltk.stem.WordNetLemmatizer()\n",
        "\n",
        "def lemmatization(review):\n",
        "    return \" \".join([lemmatizer.lemmatize(w, pos=\"v\") for w in tokenizer.tokenize(review)])\n",
        "\n",
        "df['review'] = df['review'].apply(lemmatization)\n",
        "\n",
        "if test_df is not None:\n",
        "  test_df['review'] = test_df['review'].apply(lemmatization)\n",
        "\n",
        "df"
      ],
      "metadata": {
        "id": "fepABH8yBaH9"
      },
      "execution_count": null,
      "outputs": []
    },
    {
      "cell_type": "code",
      "source": [
        "dim = 300\n",
        "\n",
        "if dim == 50:\n",
        "  glove_input_file = 'glove.6B.50d.txt'\n",
        "\n",
        "if dim == 300:\n",
        "  glove_input_file = 'glove.6B.300d.txt'\n",
        "\n",
        "w2v_output_file = 'glv_with_w2v_format.txt'\n",
        "\n",
        "\n",
        "\n",
        "glove2word2vec(glove_input_file, w2v_output_file)"
      ],
      "metadata": {
        "id": "6wlJGNZEBcPO"
      },
      "execution_count": null,
      "outputs": []
    },
    {
      "cell_type": "code",
      "source": [
        "with open(w2v_output_file, 'r') as infile:\n",
        "    w2v = infile.read().splitlines()\n",
        "\n",
        "words = []      # list of words\n",
        "vectors = []    # holds the vector of corresponding word\n",
        "index = 0       # index of word in list of vectors\n",
        "dictionary = {} # word: , index_in_vectors:\n",
        "\n",
        "# first element of w2v is 400000,50 so we dont need that\n",
        "for word_vector_pair in w2v[1:]:\n",
        "    word_vector_pair = word_vector_pair.split()\n",
        "    words.append(word_vector_pair[0])           # add word in list\n",
        "    vectors.append(np.array(word_vector_pair[1:]).astype(float))        # add vector in list (need to convert for later)\n",
        "    dictionary[word_vector_pair[0]] = index     # update dictionary\n",
        "    index += 1\n",
        "print(type(vectors[0][0]))\n",
        "word_vector = {w: vectors[dictionary[w]] for w in words}"
      ],
      "metadata": {
        "id": "QZVkIV0xBeWR"
      },
      "execution_count": null,
      "outputs": []
    },
    {
      "cell_type": "code",
      "source": [
        "def create_review_vector(df, word_vector, dim):\n",
        "  review_vectors = []  # list with mean vector values of each review\n",
        "  for review in df['review']:\n",
        "    words = review.split(' ')\n",
        "    words_in_glove = 0   # number of words in review\n",
        "    review_vector_mean = np.zeros((len(words),dim))           # we are going to add all the word vectors in review (that also exist in glove)\n",
        "    i=0\n",
        "    for word in words:\n",
        "      if word in word_vector:\n",
        "        review_vector_mean[i] += word_vector[word]\n",
        "        words_in_glove += 1\n",
        "      i+=1\n",
        "    # we now have number of words in review and number of words also in glove\n",
        "    mean = np.sum(review_vector_mean, axis=0)\n",
        "    mean /= words_in_glove\n",
        "    review_vectors.append(mean)\n",
        "\n",
        "  return review_vectors\n",
        "\n",
        "review_vectors = create_review_vector(df, word_vector, dim)\n",
        "\n",
        "print(len(review_vectors))\n",
        "print(len(review_vectors[0]))"
      ],
      "metadata": {
        "id": "lFMefyLNBfSw"
      },
      "execution_count": null,
      "outputs": []
    },
    {
      "cell_type": "code",
      "source": [
        "y1 = df['sentiment'].apply(lambda x: float(x))  # must convert for y_pred = model(x_batch)\n",
        "y1 = y1.to_numpy()\n",
        "\n",
        "X_train, X_test, Y_train, Y_test = train_test_split(np.array(review_vectors), y1, test_size = 0.1, random_state=42)\n",
        "\n",
        "X_train = torch.tensor(X_train)\n",
        "X_test = torch.tensor(X_test)\n",
        "\n",
        "Y_train = torch.squeeze(torch.from_numpy(Y_train))\n",
        "Y_test = torch.squeeze(torch.from_numpy(Y_test))\n",
        "\n",
        "if test_df is not None:\n",
        "\n",
        "  x_val =\n",
        "  y1_val = test_df['sentiment'].apply(lambda x: float(x))  # must convert for y_pred = model(x_batch)\n",
        "  y1_val = y1_val.to_numpy()\n",
        "  # y_test_val = torch.squeeze(torch.from_numpy(y1_val))\n",
        "  # print(y_test_val.shape)\n",
        "\n",
        "print(X_train.shape)\n",
        "print(X_test.shape)\n",
        "print(Y_train.shape)\n",
        "print(Y_test.shape)"
      ],
      "metadata": {
        "id": "X7IXwRzUBjLF"
      },
      "execution_count": null,
      "outputs": []
    },
    {
      "cell_type": "markdown",
      "source": [
        "#RNN"
      ],
      "metadata": {
        "id": "Rccfwrp3Nu6s"
      }
    },
    {
      "cell_type": "code",
      "source": [
        "device = torch.device(\"cuda\" if torch.cuda.is_available() else \"cpu\")\n",
        "print(\"Device available for running: \")\n",
        "print(device)"
      ],
      "metadata": {
        "id": "d0CznUxLmG_f"
      },
      "execution_count": null,
      "outputs": []
    },
    {
      "cell_type": "code",
      "source": [
        "class RNN(nn.Module):\n",
        "    def __init__(self, cell_type, input_size, hidden_size, output_size, num_layers):\n",
        "        super(RNN, self).__init__()\n",
        "\n",
        "        cells = {\n",
        "          \"RNN\" : nn.RNN,\n",
        "          \"LSTM\"    : nn.LSTM,\n",
        "          \"GRU\"     : nn.GRU\n",
        "        }\n",
        "        self.cell_type = cell_type\n",
        "        self.rnn = cells[cell_type](         # Pick the specific model\n",
        "            input_size=input_size,    # Number of features for each time step\n",
        "            hidden_size=hidden_size,  # rnn hidden units\n",
        "            num_layers=num_layers,\n",
        "            bidirectional=True,\n",
        "            batch_first=True,          # input & output will has batch size as 1s dimension. e.g. (batch, time_step, input_size)\n",
        "        )\n",
        "\n",
        "        # self.linear = nn.Linear(hidden_size*2, output_size) # Feed forward network\n",
        "\n",
        "        self.linear = nn.Linear(hidden_size*2,64)\n",
        "        self.linear2 = nn.Linear(64, output_size)\n",
        "\n",
        "        self.out = nn.Sigmoid()\n",
        "\n",
        "    def forward(self, x):\n",
        "        # x shape (batch, time_step, input_size)\n",
        "        # r_out shape (batch, time_step, output_size)\n",
        "        # h_n shape (n_layers, batch, hidden_size)\n",
        "        # h_c shape (n_layers, batch, hidden_size)\n",
        "\n",
        "        if self.cell_type == 'LSTM':\n",
        "            r_out, (h_n, h_c) = self.rnn(x)\n",
        "        else:\n",
        "            r_out, h_n = self.rnn(x)\n",
        "\n",
        "        h1 = self.linear(r_out)\n",
        "        h2 = self.linear2(h1)\n",
        "        out = self.out(h2)\n",
        "\n",
        "        return out.squeeze()\n",
        "\n",
        "        # choose r_out at the last time step\n",
        "        # out = self.out(r_out[:, -1])\n",
        "\n",
        "        # return out\n",
        ""
      ],
      "metadata": {
        "id": "6AQvze1cNxUV"
      },
      "execution_count": null,
      "outputs": []
    },
    {
      "cell_type": "markdown",
      "source": [
        "Hyperparameters"
      ],
      "metadata": {
        "id": "4wUD7HK3vHOp"
      }
    },
    {
      "cell_type": "code",
      "source": [
        "# hyperparameters\n",
        "# input_size = dim\n",
        "# hidden_size = 64\n",
        "# output_size = 1\n",
        "# cell_type = 'LSTM'\n",
        "# epochs = 10\n",
        "# num_layers = 3\n",
        "# learning_rate = 0.001\n",
        "\n",
        "# model = RNN(cell_type, input_size, hidden_size, output_size, num_layers)\n",
        "# print(model)\n",
        "\n",
        "# # Initialization of optimizer and loss function\n",
        "# optimizer = torch.optim.Adam(model.parameters(), lr=learning_rate)\n",
        "# criterion = nn.BCELoss()\n",
        "\n",
        "# # Transfer all the computation to GPU (cuda device).\n",
        "# model = model.to(device)\n",
        "# criterion = criterion.to(device)\n",
        "\n",
        "#Initialise dataloader\n",
        "dataset = torch.utils.data.TensorDataset(X_train, Y_train)\n",
        "dataloader = torch.utils.data.DataLoader(dataset, batch_size=1000, shuffle=False)\n",
        "\n",
        "#initialise test dataloader\n",
        "test_dataset = torch.utils.data.TensorDataset(X_test, Y_test)\n",
        "test_dataloader = torch.utils.data.DataLoader(test_dataset, batch_size=1000, shuffle=False)"
      ],
      "metadata": {
        "id": "DkAxerIAvKQw"
      },
      "execution_count": null,
      "outputs": []
    },
    {
      "cell_type": "markdown",
      "source": [
        "Train"
      ],
      "metadata": {
        "id": "o4ck8VO-wUFY"
      }
    },
    {
      "cell_type": "code",
      "source": [
        "from sklearn import metrics\n",
        "\n",
        "f1_score = F1Score(task=\"binary\", num_classes=1)\n",
        "acc = Accuracy(task=\"binary\", num_classes=1)\n",
        "rec = Recall(task=\"binary\", num_classes=1)\n",
        "prec = Precision(task=\"binary\", num_classes=1)\n",
        "\n",
        "# train_mean_accuracy = []\n",
        "# train_mean_loss = []\n",
        "# train_mean_roc = []\n",
        "# train_mean_fpr = []\n",
        "# train_mean_tpr = []\n",
        "# train_mean_thresholds = []\n",
        "\n",
        "# test_mean_accuracy = []\n",
        "# test_mean_loss = []\n",
        "# test_mean_fpr = []\n",
        "# test_mean_tpr = []\n",
        "# test_mean_thresholds = []\n",
        "\n",
        "# clip = 5\n",
        "\n",
        "# test_size = 1000\n",
        "# #start train mode\n",
        "# model.train()\n",
        "\n",
        "# for epoch in range(epochs):\n",
        "#   batch_losses = []\n",
        "#   accuracy = []\n",
        "#   precision = []\n",
        "#   recall = []\n",
        "#   f1 = []\n",
        "#   fpr_list = []\n",
        "#   tpr_list = []\n",
        "#   thresholds_list = []\n",
        "#   test_batch_losses = []\n",
        "#   test_accuracy = []\n",
        "#   test_precision = []\n",
        "#   test_recall = []\n",
        "#   test_f1 = []\n",
        "#   test_fpr_list = []\n",
        "#   test_tpr_list = []\n",
        "#   test_thresholds_list = []\n",
        "#   for x_batch, y_batch in dataloader:\n",
        "#     x_batch = x_batch.to(torch.float32)\n",
        "#     y_batch = y_batch.to(torch.float32)\n",
        "\n",
        "#     #clear gradients for this step\n",
        "#     optimizer.zero_grad()\n",
        "\n",
        "#     y_pred = model(x_batch)\n",
        "\n",
        "#     loss = criterion(y_pred, y_batch)\n",
        "\n",
        "#     batch_losses.append(loss.item())\n",
        "#     precision.append(prec(torch.squeeze(torch.round(y_pred)), y_batch))\n",
        "#     accuracy.append(acc(torch.squeeze(torch.round(y_pred)), y_batch))\n",
        "#     f1.append(f1_score(torch.squeeze(torch.round(y_pred)), y_batch))\n",
        "#     recall.append(rec(torch.squeeze(torch.round(y_pred)), y_batch))\n",
        "\n",
        "#     loss.backward()\n",
        "\n",
        "#     nn.utils.clip_grad_norm_(model.parameters(), clip)\n",
        "\n",
        "#     optimizer.step()\n",
        "\n",
        "#   for test_x, test_y in test_dataloader:\n",
        "#     test_x = test_x.to(torch.float32)\n",
        "#     test_y = test_y.to(torch.float32)\n",
        "\n",
        "#     y_pred = model(test_x)\n",
        "\n",
        "#     loss = criterion(y_pred, test_y)\n",
        "#     test_batch_losses.append(loss.item())\n",
        "\n",
        "#     test_precision.append(prec(torch.squeeze(torch.round(y_pred)), test_y))\n",
        "#     test_accuracy.append(acc(torch.squeeze(torch.round(y_pred)), test_y))\n",
        "#     test_f1.append(f1_score(torch.squeeze(torch.round(y_pred)), test_y))\n",
        "#     test_recall.append(rec(torch.squeeze(torch.round(y_pred)), test_y))\n",
        "\n",
        "#     fpr, tpr, thresholds = metrics.roc_curve(np.round_(y_pred.detach().numpy()), test_y, pos_label=1)\n",
        "#     fpr_list.append(fpr)\n",
        "#     tpr_list.append(tpr)\n",
        "#     thresholds_list.append(thresholds)\n",
        "\n",
        "#   train_mean_accuracy.append(sum(accuracy)/len(dataloader))\n",
        "#   test_mean_accuracy.append(sum(test_accuracy)/len(test_dataloader))\n",
        "#   train_mean_loss.append(sum(batch_losses)/len(dataloader))\n",
        "#   test_mean_loss.append(sum(test_batch_losses)/len(test_dataloader))\n",
        "\n",
        "#   test_mean_fpr.append(sum(fpr_list)/len(test_dataloader))\n",
        "#   test_mean_tpr.append(sum(tpr_list)/len(test_dataloader))\n",
        "\n",
        "#   print(f\"Epoch {epoch:3}: Accuracy = {sum(accuracy)/len(dataloader):.5f} -  Test Accuracy = {sum(test_accuracy)/len(test_dataloader):.5f}\")\n",
        "#   print(f\"Epoch {epoch:3}: Precision = {sum(precision)/len(dataloader):.5f} -  Test Precision = {sum(test_precision)/len(test_dataloader):.5f}\")\n",
        "#   print(f\"Epoch {epoch:3}: Recall = {sum(recall)/len(dataloader):.5f} -  Test Recall = {sum(test_recall)/len(test_dataloader):.5f}\")\n",
        "#   print(f\"Epoch {epoch:3}: F1 = {sum(f1)/len(dataloader):.5f} -  Test F1 = {sum(test_f1)/len(test_dataloader):.5f}\")\n",
        "#   print(f\"Epoch {epoch:3}: Test Fpr = {sum(fpr_list)/len(test_dataloader)}\")\n",
        "#   print(f\"Epoch {epoch:3}: Test Tpr = {sum(tpr_list)/len(test_dataloader)}\")\n",
        "#   print(f\"Epoch {epoch:3}: Loss = {sum(batch_losses)/len(dataloader):.5f} -  Test Loss = {sum(test_batch_losses)/len(test_dataloader):.5f}\")\n",
        "#   print()"
      ],
      "metadata": {
        "id": "eUYlrKAvwVnZ"
      },
      "execution_count": null,
      "outputs": []
    },
    {
      "cell_type": "markdown",
      "source": [
        "Plot"
      ],
      "metadata": {
        "id": "nY95v3tBSkRk"
      }
    },
    {
      "cell_type": "code",
      "source": [
        "def plot_lc(train, test, title, ylabel, loc):\n",
        "  figure(figsize=(8,8))\n",
        "  plt.plot(train)\n",
        "  plt.plot(test)\n",
        "  plt.title(title)\n",
        "  plt.ylabel(ylabel)\n",
        "  plt.xlabel(\"Epoch\")\n",
        "  plt.legend(['train', 'test'], loc=loc)\n",
        "  plt.show()\n",
        "\n",
        "# plot_lc(train_mean_accuracy, test_mean_accuracy, \"Learning Curve Accuracy\", \"Accuracy\", 'lower right')\n",
        "# print()\n",
        "# plot_lc(train_mean_loss, test_mean_loss, \"Learning Curve Loss\", \"Loss\", 'upper right')"
      ],
      "metadata": {
        "id": "YwH1_6SHSlpF"
      },
      "execution_count": null,
      "outputs": []
    },
    {
      "cell_type": "code",
      "source": [
        "y_pred = model(X_test.float())\n",
        "display = metrics.RocCurveDisplay.from_predictions(Y_test, y_pred.detach().numpy())"
      ],
      "metadata": {
        "id": "1E06_jU1_Rdf",
        "colab": {
          "base_uri": "https://localhost:8080/",
          "height": 279
        },
        "outputId": "84b6c6fa-4529-4da7-ec89-d91a0552267d"
      },
      "execution_count": null,
      "outputs": [
        {
          "output_type": "display_data",
          "data": {
            "text/plain": [
              "<Figure size 432x288 with 1 Axes>"
            ],
            "image/png": "[encoded data removed]"
          },
          "metadata": {
            "needs_background": "light"
          }
        }
      ]
    },
    {
      "cell_type": "code",
      "source": [
        "# model_scripted = torch.jit.script(model) # Export to TorchScript\n",
        "# model_scripted.save('myNN.pt') # Save\n"
      ],
      "metadata": {
        "id": "WKpkfgsRqpp5"
      },
      "execution_count": null,
      "outputs": []
    },
    {
      "cell_type": "markdown",
      "source": [
        "evaluate on test"
      ],
      "metadata": {
        "id": "0hKXSjiKsxId"
      }
    },
    {
      "cell_type": "code",
      "source": [
        "if test_df is not None:\n",
        "  val_review_vectors = create_review_vector(test_df, word_vector, dim)\n",
        "\n",
        "  x_val = np.array(val_review_vectors)\n",
        "  x_val = torch.tensor(x_val)\n",
        "  y_pred = model(x_val.float().clone().detach().requires_grad_(True))\n",
        "  y1_val = torch.squeeze(torch.from_numpy(y1_val))\n",
        "\n",
        "  print(prec(torch.squeeze(torch.round(y_pred)), y1_val))\n",
        "  print(acc(torch.squeeze(torch.round(y_pred)), y1_val))\n",
        "  print(f1_score(torch.squeeze(torch.round(y_pred)), y1_val))\n",
        "  print(rec(torch.squeeze(torch.round(y_pred)), y1_val))"
      ],
      "metadata": {
        "id": "5v-ufMR2swU4"
      },
      "execution_count": null,
      "outputs": []
    }
  ]
}