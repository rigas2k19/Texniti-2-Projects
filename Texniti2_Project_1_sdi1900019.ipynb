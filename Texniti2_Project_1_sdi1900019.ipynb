{
  "nbformat": 4,
  "nbformat_minor": 0,
  "metadata": {
    "colab": {
      "provenance": []
    },
    "kernelspec": {
      "name": "python3",
      "display_name": "Python 3"
    },
    "language_info": {
      "name": "python"
    }
  },
  "cells": [
    {
      "cell_type": "code",
      "execution_count": null,
      "metadata": {
        "id": "EyjyTuZQRZQq"
      },
      "outputs": [],
      "source": [
        "import pandas as pd\n",
        "import numpy as np\n",
        "import re\n",
        "import string\n",
        "from nltk.stem import PorterStemmer\n",
        "from nltk.corpus import stopwords\n",
        "from nltk.tokenize import word_tokenize\n",
        "import nltk\n",
        "from wordcloud import WordCloud\n",
        "import matplotlib.pyplot as plt\n",
        "from sklearn.model_selection import train_test_split\n",
        "from sklearn.feature_extraction.text import CountVectorizer, TfidfVectorizer\n",
        "from sklearn.linear_model import LogisticRegression\n",
        "from sklearn.metrics import f1_score, accuracy_score, classification_report, confusion_matrix, precision_score, recall_score\n",
        "from sklearn.pipeline import Pipeline\n",
        "from sklearn.model_selection import KFold, cross_val_score\n",
        "from sklearn.model_selection import GridSearchCV\n",
        "\n",
        "!pip install contractions\n",
        "\n",
        "import contractions\n",
        "\n",
        "# for clean_review\n",
        "nltk.download('punkt')\n",
        "nltk.download('stopwords')\n"
      ]
    },
    {
      "cell_type": "markdown",
      "source": [
        "Open data set"
      ],
      "metadata": {
        "id": "99YOQuQRTPSo"
      }
    },
    {
      "cell_type": "code",
      "source": [
        "df = pd.read_csv('drive/MyDrive/imdb-reviews.csv', sep='\\t')\n",
        "\n",
        "test = None\n",
        "\n",
        "df"
      ],
      "metadata": {
        "id": "-xqjQuv2TSTU"
      },
      "execution_count": null,
      "outputs": []
    },
    {
      "cell_type": "markdown",
      "source": [
        "Remove extra columns ('url', 'rating') and add a sentiment column. Sentiment = 1 it is a positive review 0 for negative review."
      ],
      "metadata": {
        "id": "SvtHzKoiTyDa"
      }
    },
    {
      "cell_type": "code",
      "source": [
        "def remove_cols(df):\n",
        "  # διώχνω τα άχρηστα δεδομένα πχ. url rating\n",
        "  df = df.drop(['url'], axis=1)\n",
        "\n",
        "  # add sentiment col 0 for negative 1 for positive\n",
        "  df['sentiment'] = np.where(df['rating']>4.0, 1, 0)\n",
        "\n",
        "  # no more need for col rating\n",
        "  df = df.drop(['rating'], axis=1)\n",
        "\n",
        "  return df\n",
        "\n",
        "df = remove_cols(df)"
      ],
      "metadata": {
        "id": "6kG7-xWGT_wn",
        "colab": {
          "base_uri": "https://localhost:8080/",
          "height": 201
        },
        "outputId": "c85ad27e-8c28-4b00-e326-d33b031fd0de"
      },
      "execution_count": null,
      "outputs": [
        {
          "output_type": "error",
          "ename": "NameError",
          "evalue": "ignored",
          "traceback": [
            "\u001b[0;31m---------------------------------------------------------------------------\u001b[0m",
            "\u001b[0;31mNameError\u001b[0m                                 Traceback (most recent call last)",
            "\u001b[0;32m<ipython-input-1-5546e139adf8>\u001b[0m in \u001b[0;36m<module>\u001b[0;34m\u001b[0m\n\u001b[1;32m     11\u001b[0m   \u001b[0;32mreturn\u001b[0m \u001b[0mdf\u001b[0m\u001b[0;34m\u001b[0m\u001b[0;34m\u001b[0m\u001b[0m\n\u001b[1;32m     12\u001b[0m \u001b[0;34m\u001b[0m\u001b[0m\n\u001b[0;32m---> 13\u001b[0;31m \u001b[0mdf\u001b[0m \u001b[0;34m=\u001b[0m \u001b[0mremove_cols\u001b[0m\u001b[0;34m(\u001b[0m\u001b[0mdf\u001b[0m\u001b[0;34m)\u001b[0m\u001b[0;34m\u001b[0m\u001b[0;34m\u001b[0m\u001b[0m\n\u001b[0m",
            "\u001b[0;31mNameError\u001b[0m: name 'df' is not defined"
          ]
        }
      ]
    },
    {
      "cell_type": "code",
      "source": [
        "df"
      ],
      "metadata": {
        "colab": {
          "base_uri": "https://localhost:8080/",
          "height": 424
        },
        "id": "nFoxKetQZcvw",
        "outputId": "b5068443-956a-4e60-d6fd-19eb677f4d65"
      },
      "execution_count": null,
      "outputs": [
        {
          "output_type": "execute_result",
          "data": {
            "text/plain": [
              "                                                  review  sentiment\n",
              "0      I thought this was a quiet good movie. It was ...          1\n",
              "1      Wagon Master is a very unique film amongst Joh...          1\n",
              "2      This film has to be as near to perfect a film ...          1\n",
              "3      I gave this 4 stars because it has a lot of in...          0\n",
              "4      This movie is really genuine and random. It's ...          1\n",
              "...                                                  ...        ...\n",
              "45003  I don't even know where to begin...<br /><br /...          0\n",
              "45004  One of the worst movies I saw in the 90s. I'd ...          0\n",
              "45005  Baldwin has really stooped low to make such mo...          0\n",
              "45006  If you liked watching Mel Gibson in Million Do...          0\n",
              "45007  This is easily the best cinematic version of W...          1\n",
              "\n",
              "[45008 rows x 2 columns]"
            ],
            "text/html": [
              "\n",
              "  <div id=\"df-dcbab3be-4288-442e-ab1a-297c8f31f987\">\n",
              "    <div class=\"colab-df-container\">\n",
              "      <div>\n",
              "<style scoped>\n",
              "    .dataframe tbody tr th:only-of-type {\n",
              "        vertical-align: middle;\n",
              "    }\n",
              "\n",
              "    .dataframe tbody tr th {\n",
              "        vertical-align: top;\n",
              "    }\n",
              "\n",
              "    .dataframe thead th {\n",
              "        text-align: right;\n",
              "    }\n",
              "</style>\n",
              "<table border=\"1\" class=\"dataframe\">\n",
              "  <thead>\n",
              "    <tr style=\"text-align: right;\">\n",
              "      <th></th>\n",
              "      <th>review</th>\n",
              "      <th>sentiment</th>\n",
              "    </tr>\n",
              "  </thead>\n",
              "  <tbody>\n",
              "    <tr>\n",
              "      <th>0</th>\n",
              "      <td>I thought this was a quiet good movie. It was ...</td>\n",
              "      <td>1</td>\n",
              "    </tr>\n",
              "    <tr>\n",
              "      <th>1</th>\n",
              "      <td>Wagon Master is a very unique film amongst Joh...</td>\n",
              "      <td>1</td>\n",
              "    </tr>\n",
              "    <tr>\n",
              "      <th>2</th>\n",
              "      <td>This film has to be as near to perfect a film ...</td>\n",
              "      <td>1</td>\n",
              "    </tr>\n",
              "    <tr>\n",
              "      <th>3</th>\n",
              "      <td>I gave this 4 stars because it has a lot of in...</td>\n",
              "      <td>0</td>\n",
              "    </tr>\n",
              "    <tr>\n",
              "      <th>4</th>\n",
              "      <td>This movie is really genuine and random. It's ...</td>\n",
              "      <td>1</td>\n",
              "    </tr>\n",
              "    <tr>\n",
              "      <th>...</th>\n",
              "      <td>...</td>\n",
              "      <td>...</td>\n",
              "    </tr>\n",
              "    <tr>\n",
              "      <th>45003</th>\n",
              "      <td>I don't even know where to begin...&lt;br /&gt;&lt;br /...</td>\n",
              "      <td>0</td>\n",
              "    </tr>\n",
              "    <tr>\n",
              "      <th>45004</th>\n",
              "      <td>One of the worst movies I saw in the 90s. I'd ...</td>\n",
              "      <td>0</td>\n",
              "    </tr>\n",
              "    <tr>\n",
              "      <th>45005</th>\n",
              "      <td>Baldwin has really stooped low to make such mo...</td>\n",
              "      <td>0</td>\n",
              "    </tr>\n",
              "    <tr>\n",
              "      <th>45006</th>\n",
              "      <td>If you liked watching Mel Gibson in Million Do...</td>\n",
              "      <td>0</td>\n",
              "    </tr>\n",
              "    <tr>\n",
              "      <th>45007</th>\n",
              "      <td>This is easily the best cinematic version of W...</td>\n",
              "      <td>1</td>\n",
              "    </tr>\n",
              "  </tbody>\n",
              "</table>\n",
              "<p>45008 rows × 2 columns</p>\n",
              "</div>\n",
              "      <button class=\"colab-df-convert\" onclick=\"convertToInteractive('df-dcbab3be-4288-442e-ab1a-297c8f31f987')\"\n",
              "              title=\"Convert this dataframe to an interactive table.\"\n",
              "              style=\"display:none;\">\n",
              "        \n",
              "  <svg xmlns=\"http://www.w3.org/2000/svg\" height=\"24px\"viewBox=\"0 0 24 24\"\n",
              "       width=\"24px\">\n",
              "    <path d=\"M0 0h24v24H0V0z\" fill=\"none\"/>\n",
              "    <path d=\"M18.56 5.44l.94 2.06.94-2.06 2.06-.94-2.06-.94-.94-2.06-.94 2.06-2.06.94zm-11 1L8.5 8.5l.94-2.06 2.06-.94-2.06-.94L8.5 2.5l-.94 2.06-2.06.94zm10 10l.94 2.06.94-2.06 2.06-.94-2.06-.94-.94-2.06-.94 2.06-2.06.94z\"/><path d=\"M17.41 7.96l-1.37-1.37c-.4-.4-.92-.59-1.43-.59-.52 0-1.04.2-1.43.59L10.3 9.45l-7.72 7.72c-.78.78-.78 2.05 0 2.83L4 21.41c.39.39.9.59 1.41.59.51 0 1.02-.2 1.41-.59l7.78-7.78 2.81-2.81c.8-.78.8-2.07 0-2.86zM5.41 20L4 18.59l7.72-7.72 1.47 1.35L5.41 20z\"/>\n",
              "  </svg>\n",
              "      </button>\n",
              "      \n",
              "  <style>\n",
              "    .colab-df-container {\n",
              "      display:flex;\n",
              "      flex-wrap:wrap;\n",
              "      gap: 12px;\n",
              "    }\n",
              "\n",
              "    .colab-df-convert {\n",
              "      background-color: #E8F0FE;\n",
              "      border: none;\n",
              "      border-radius: 50%;\n",
              "      cursor: pointer;\n",
              "      display: none;\n",
              "      fill: #1967D2;\n",
              "      height: 32px;\n",
              "      padding: 0 0 0 0;\n",
              "      width: 32px;\n",
              "    }\n",
              "\n",
              "    .colab-df-convert:hover {\n",
              "      background-color: #E2EBFA;\n",
              "      box-shadow: 0px 1px 2px rgba(60, 64, 67, 0.3), 0px 1px 3px 1px rgba(60, 64, 67, 0.15);\n",
              "      fill: #174EA6;\n",
              "    }\n",
              "\n",
              "    [theme=dark] .colab-df-convert {\n",
              "      background-color: #3B4455;\n",
              "      fill: #D2E3FC;\n",
              "    }\n",
              "\n",
              "    [theme=dark] .colab-df-convert:hover {\n",
              "      background-color: #434B5C;\n",
              "      box-shadow: 0px 1px 3px 1px rgba(0, 0, 0, 0.15);\n",
              "      filter: drop-shadow(0px 1px 2px rgba(0, 0, 0, 0.3));\n",
              "      fill: #FFFFFF;\n",
              "    }\n",
              "  </style>\n",
              "\n",
              "      <script>\n",
              "        const buttonEl =\n",
              "          document.querySelector('#df-dcbab3be-4288-442e-ab1a-297c8f31f987 button.colab-df-convert');\n",
              "        buttonEl.style.display =\n",
              "          google.colab.kernel.accessAllowed ? 'block' : 'none';\n",
              "\n",
              "        async function convertToInteractive(key) {\n",
              "          const element = document.querySelector('#df-dcbab3be-4288-442e-ab1a-297c8f31f987');\n",
              "          const dataTable =\n",
              "            await google.colab.kernel.invokeFunction('convertToInteractive',\n",
              "                                                     [key], {});\n",
              "          if (!dataTable) return;\n",
              "\n",
              "          const docLinkHtml = 'Like what you see? Visit the ' +\n",
              "            '<a target=\"_blank\" href=https://colab.research.google.com/notebooks/data_table.ipynb>data table notebook</a>'\n",
              "            + ' to learn more about interactive tables.';\n",
              "          element.innerHTML = '';\n",
              "          dataTable['output_type'] = 'display_data';\n",
              "          await google.colab.output.renderOutput(dataTable, element);\n",
              "          const docLink = document.createElement('div');\n",
              "          docLink.innerHTML = docLinkHtml;\n",
              "          element.appendChild(docLink);\n",
              "        }\n",
              "      </script>\n",
              "    </div>\n",
              "  </div>\n",
              "  "
            ]
          },
          "metadata": {},
          "execution_count": 220
        }
      ]
    },
    {
      "cell_type": "markdown",
      "source": [
        "If test file exists do the same preprocessing"
      ],
      "metadata": {
        "id": "WEFH1wR-E7XH"
      }
    },
    {
      "cell_type": "code",
      "source": [
        "if test is not None:\n",
        "  test = remove_cols(test)\n",
        "  X_test = test['review']\n",
        "  Y_test = test['sentiment']"
      ],
      "metadata": {
        "id": "SinAMyCsE4jC"
      },
      "execution_count": null,
      "outputs": []
    },
    {
      "cell_type": "code",
      "source": [
        "test"
      ],
      "metadata": {
        "id": "6LinR3UkZpuK"
      },
      "execution_count": null,
      "outputs": []
    },
    {
      "cell_type": "code",
      "source": [
        "df.info()"
      ],
      "metadata": {
        "id": "vTdWPOv2axv-"
      },
      "execution_count": null,
      "outputs": []
    },
    {
      "cell_type": "markdown",
      "source": [
        "#Preprocessing."
      ],
      "metadata": {
        "id": "yTTLg9S4UNEk"
      }
    },
    {
      "cell_type": "markdown",
      "source": [
        "Function to clean review from html tags, numbers, punctuation and stopwords."
      ],
      "metadata": {
        "id": "e8WtHwPQUVLi"
      }
    },
    {
      "cell_type": "code",
      "source": [
        "# r tells python that the expression is raw string\n",
        "def clean_review(review):\n",
        "  review = review.lower()\n",
        "  review = re.sub(r'<br />+', '', review)\n",
        "  review = re.sub(r'(?is)</html>.+', '</html>', review)\n",
        "  review = re.sub(r'[0-9]+', '', review)  # remove numbers from review\n",
        "\n",
        "  return review"
      ],
      "metadata": {
        "id": "Iqt-e8jZUgCz"
      },
      "execution_count": null,
      "outputs": []
    },
    {
      "cell_type": "markdown",
      "source": [
        "Expand Contractions\n"
      ],
      "metadata": {
        "id": "_0eu2uJqdqYF"
      }
    },
    {
      "cell_type": "code",
      "source": [
        "def expand_contractions(review):\n",
        "  return contractions.fix(review)"
      ],
      "metadata": {
        "id": "DynpbiHpdswz"
      },
      "execution_count": null,
      "outputs": []
    },
    {
      "cell_type": "markdown",
      "source": [
        "Stemming"
      ],
      "metadata": {
        "id": "9E9puoC9VM7Q"
      }
    },
    {
      "cell_type": "code",
      "source": [
        "def stemming(review):\n",
        "  stemmer = PorterStemmer()\n",
        "  tect = [stemmer.stem(word) for word in review]\n",
        "\n",
        "  return review"
      ],
      "metadata": {
        "id": "5wCYOi5fVPFw"
      },
      "execution_count": null,
      "outputs": []
    },
    {
      "cell_type": "markdown",
      "source": [
        "Clean the reviews"
      ],
      "metadata": {
        "id": "k3cCNsZ9gAQ7"
      }
    },
    {
      "cell_type": "code",
      "source": [
        "df['review'] = df['review'].apply(lambda x: clean_review(x)) # solo -> 0.8932411740965067\n",
        "df['review'] = df['review'].apply(lambda x: expand_contractions(x)) # solo -> 0.9000177200188155\n",
        "df['review'] = df['review'].apply(lambda x: stemming(x))\n",
        "\n",
        "if test is not None:\n",
        "  test['review'] = test['review'].apply(lambda x: expand_contractions(x)) # solo -> 0.9000177200188155\n",
        "  test['review'] = test['review'].apply(lambda x: clean_review(x)) # solo -> 0.8932411740965067\n",
        "  test['review'] = test['review'].apply(lambda x: stemming(x))\n",
        "\n",
        "# expand_contractions + stemming # Mean score is  0.9000177200188155\n",
        "# all 0.8936633321321701 with stop words on clean, 0.896351764316789 without, 0.8951742111845629 without non_sentimental_words\n",
        "# all without removing punctuations 0.9003509916360969\n",
        "\n",
        "# df"
      ],
      "metadata": {
        "id": "8SYA9FaBgDaS"
      },
      "execution_count": null,
      "outputs": []
    },
    {
      "cell_type": "markdown",
      "source": [
        "#Vectorize"
      ],
      "metadata": {
        "id": "nkR9UDipgx-e"
      }
    },
    {
      "cell_type": "code",
      "source": [
        "X = df['review']\n",
        "Y = df['sentiment']"
      ],
      "metadata": {
        "id": "DWGzJ5I6hz5Q"
      },
      "execution_count": null,
      "outputs": []
    },
    {
      "cell_type": "markdown",
      "source": [
        "Function to use TfidVectorizer"
      ],
      "metadata": {
        "id": "E2CPCNOkjrtN"
      }
    },
    {
      "cell_type": "code",
      "source": [
        "def use_TfidVectorizer(X,Y):\n",
        "  vect = TfidfVectorizer()\n",
        "  X = vect.fit_transform(df['review'])\n",
        "\n",
        "  x_train, x_test, y_train, y_test = train_test_split(X, Y, test_size=0.2, random_state=42)\n",
        "\n",
        "  model = LogisticRegression(penalty=\"l2\", solver=\"newton-cg\", C=0.1)\n",
        "  model.fit(x_train, y_train)\n",
        "\n",
        "  prediction = model.predict(x_test)\n",
        "  accuracy = accuracy_score(prediction, y_test)\n",
        "  print(\"Accuracy : \", accuracy)\n",
        "\n",
        "  return model, x_train, y_train"
      ],
      "metadata": {
        "id": "HelP7mfog1AB"
      },
      "execution_count": null,
      "outputs": []
    },
    {
      "cell_type": "markdown",
      "source": [
        "Function to use CountVectorizer"
      ],
      "metadata": {
        "id": "1ImsWg1ojyFy"
      }
    },
    {
      "cell_type": "code",
      "source": [
        "def use_CrossVal_CountVectorizer(X,Y):\n",
        "  kfold = KFold(n_splits=5, random_state=42, shuffle=True)\n",
        "\n",
        "  vector = CountVectorizer().fit(X)\n",
        "  vector.get_feature_names_out()\n",
        "\n",
        "  X_train_vectorized = vector.transform(X)\n",
        "\n",
        "  model = LogisticRegression(penalty=\"l2\", solver=\"newton-cg\", C=0.1)\n",
        "  model.fit(X_train_vectorized, Y)\n",
        "  avg = cross_val_score(model, X_train_vectorized, Y, cv=kfold)\n",
        "\n",
        "  print(\"Mean score is \", np.mean(avg))\n",
        "  print(\"scores are \", avg)\n",
        "\n",
        "  return model, X, Y"
      ],
      "metadata": {
        "id": "xTvESTybj1j6"
      },
      "execution_count": null,
      "outputs": []
    },
    {
      "cell_type": "code",
      "source": [
        "#model,x_train, y_train = use_TfidVectorizer(X,Y)\n",
        "\n",
        "#Accuracy :  0.8746945123305933"
      ],
      "metadata": {
        "id": "fv1kNJSniaOQ"
      },
      "execution_count": null,
      "outputs": []
    },
    {
      "cell_type": "code",
      "source": [
        "\n",
        "if test is None:\n",
        "  model, x_train, y_train = use_CrossVal_CountVectorizer(X,Y)\n",
        "\n",
        "#Mean score is  0.9003509916360969"
      ],
      "metadata": {
        "id": "i1TvPbTokh5O",
        "colab": {
          "base_uri": "https://localhost:8080/"
        },
        "outputId": "ae390d78-0b70-4fdb-c199-1ee859faa087"
      },
      "execution_count": null,
      "outputs": [
        {
          "output_type": "stream",
          "name": "stdout",
          "text": [
            "Mean score is  0.9003509891677839\n",
            "scores are  [0.9034659  0.89891135 0.90135525 0.89878902 0.89923342]\n"
          ]
        }
      ]
    },
    {
      "cell_type": "code",
      "source": [
        "# X, Y are the trainig data and\n",
        "def use_CountVectorizer(X, Y, X_test, Y_test):\n",
        "  # training\n",
        "  X_train = X\n",
        "  Y_train = Y\n",
        "\n",
        "  vector = CountVectorizer().fit(X_train)\n",
        "  vector.get_feature_names_out()\n",
        "\n",
        "  X_train_vectorized = vector.transform(X_train)\n",
        "\n",
        "  model = LogisticRegression(penalty=\"l2\", solver=\"newton-cg\", C=0.1)\n",
        "  model.fit(X_train_vectorized, Y_train)\n",
        "\n",
        "  # Validation\n",
        "  predictions_train = model.predict(X_train_vectorized) # results train\n",
        "  predictions_test = model.predict(vector.transform(X_test))\n",
        "\n",
        "  f1_train = f1_score(Y_train, predictions_train)\n",
        "  f1_val = f1_score(Y_test, predictions_test)\n",
        "\n",
        "  precision_train = precision_score(Y_train, predictions_train)\n",
        "  precision_val = precision_score(Y_test, predictions_test)\n",
        "\n",
        "  recall_train = recall_score(Y_train, predictions_train)\n",
        "  recall_val = recall_score(Y_test, predictions_test)\n",
        "\n",
        "  print(\"F1 Score (train): \", f1_train)\n",
        "  print(\"F1 Score (validation): \", f1_val)\n",
        "  print(\"Precision Score (train): \", precision_train)\n",
        "  print(\"Precision Score (validation): \", precision_val)\n",
        "  print(\"Recall Score (train): \", recall_train)\n",
        "  print(\"Recall Score (validation): \", recall_val)\n"
      ],
      "metadata": {
        "id": "rKgYuQMdinTD"
      },
      "execution_count": null,
      "outputs": []
    },
    {
      "cell_type": "code",
      "source": [
        "if test is not None:\n",
        " use_CountVectorizer(X, Y, X_test, Y_test)"
      ],
      "metadata": {
        "id": "0g8SZXaYNZkC"
      },
      "execution_count": null,
      "outputs": []
    },
    {
      "cell_type": "markdown",
      "source": [
        "#Plot"
      ],
      "metadata": {
        "id": "kZCBe0f5HqUJ"
      }
    },
    {
      "cell_type": "code",
      "source": [
        "def plot():\n",
        "  list_f1 = []\n",
        "  list_f1_train = []\n",
        "  list_sample_size = []\n",
        "\n",
        "  for times in range(10):\n",
        "    # training\n",
        "    X_train, X_test, Y_train, Y_test = train_test_split(X, Y, test_size= 1 - (times * 0.1 + 0.001))\n",
        "\n",
        "    vector = CountVectorizer().fit(X_train)\n",
        "    vector.get_feature_names_out()\n",
        "\n",
        "    X_train_vectorized = vector.transform(X_train)\n",
        "\n",
        "    model = LogisticRegression(penalty=\"l2\", solver=\"newton-cg\", C=0.1)\n",
        "    model.fit(X_train_vectorized, Y_train)\n",
        "\n",
        "    # Validation\n",
        "    predictions_train = model.predict(X_train_vectorized) # results train\n",
        "    predictions_test = model.predict(vector.transform(X_test))\n",
        "\n",
        "    # Score\n",
        "    f1_train = f1_score(Y_train, predictions_train)\n",
        "    f1_val = f1_score(Y_test, predictions_test)\n",
        "\n",
        "    precision_train = precision_score(Y_train, predictions_train)\n",
        "    precision_val = precision_score(Y_test, predictions_test)\n",
        "\n",
        "    recall_train = recall_score(Y_train, predictions_train)\n",
        "    recall_val = recall_score(Y_test, predictions_test)\n",
        "\n",
        "    print(times)\n",
        "    print(\"F1 Score (train): \", f1_train)\n",
        "    print(\"F1 Score (validation): \", f1_val)\n",
        "    print(\"Precision Score (train): \", precision_train)\n",
        "    print(\"Precision Score (validation): \", precision_val)\n",
        "    print(\"Recall Score (train): \", recall_train)\n",
        "    print(\"Recall Score (validation): \", recall_val)\n",
        "    print()\n",
        "\n",
        "    list_f1.append(f1_val)\n",
        "    list_f1_train.append(f1_train)\n",
        "    list_sample_size.append((times * 0.1 + 0.1))\n",
        "\n",
        "  plt.plot(list_sample_size, list_f1)\n",
        "  plt.plot(list_sample_size, list_f1_train)\n",
        "\n",
        "  plt.ylim(ymin=0)\n",
        "  plt.legend([\"Validation\", \"Training\"])"
      ],
      "metadata": {
        "id": "ekfpVQmaHs6m"
      },
      "execution_count": null,
      "outputs": []
    },
    {
      "cell_type": "code",
      "source": [
        "plot()"
      ],
      "metadata": {
        "id": "maUg2F4EIAwU",
        "colab": {
          "base_uri": "https://localhost:8080/"
        },
        "outputId": "24aec252-dbc6-4882-fcca-71263fc0d358"
      },
      "execution_count": null,
      "outputs": [
        {
          "output_type": "stream",
          "name": "stdout",
          "text": [
            "0\n",
            "F1 Score (train):  1.0\n",
            "F1 Score (validation):  0.6403126285479227\n",
            "Precision Score (train):  1.0\n",
            "Precision Score (validation):  0.5955997704228047\n",
            "Recall Score (train):  1.0\n",
            "Recall Score (validation):  0.6922837447187014\n",
            "\n",
            "1\n",
            "F1 Score (train):  0.9916958041958042\n",
            "F1 Score (validation):  0.859789329618496\n",
            "Precision Score (train):  0.9916958041958042\n",
            "Precision Score (validation):  0.8498816253563318\n",
            "Recall Score (train):  0.9916958041958042\n",
            "Recall Score (validation):  0.8699307616221563\n",
            "\n",
            "2\n",
            "F1 Score (train):  0.9886651260041818\n",
            "F1 Score (validation):  0.8742660906170377\n",
            "Precision Score (train):  0.9863855950812472\n",
            "Precision Score (validation):  0.8704571775216456\n",
            "Recall Score (train):  0.9909552172953894\n",
            "Recall Score (validation):  0.8781084840055633\n",
            "\n",
            "3\n",
            "F1 Score (train):  0.9817941565115255\n",
            "F1 Score (validation):  0.8870054710477214\n",
            "Precision Score (train):  0.9809300278714977\n",
            "Precision Score (validation):  0.8810152029149391\n",
            "Recall Score (train):  0.9826598089639971\n",
            "Recall Score (validation):  0.8930777558428326\n",
            "\n",
            "4\n",
            "F1 Score (train):  0.9783371387202762\n",
            "F1 Score (validation):  0.8879820594831072\n",
            "Precision Score (train):  0.978173719376392\n",
            "Precision Score (validation):  0.8834674469641551\n",
            "Recall Score (train):  0.9785006126768409\n",
            "Recall Score (validation):  0.8925430492942132\n",
            "\n",
            "5\n",
            "F1 Score (train):  0.9756293519014462\n",
            "F1 Score (validation):  0.8961898041982713\n",
            "Precision Score (train):  0.9735435595938001\n",
            "Precision Score (validation):  0.8955579058699101\n",
            "Recall Score (train):  0.9777241009125067\n",
            "Recall Score (validation):  0.8968225948808473\n",
            "\n",
            "6\n",
            "F1 Score (train):  0.9753803189534799\n",
            "F1 Score (validation):  0.895979649394459\n",
            "Precision Score (train):  0.9739487781610039\n",
            "Precision Score (validation):  0.8841955904824275\n",
            "Recall Score (train):  0.9768160741885626\n",
            "Recall Score (validation):  0.908082053581437\n",
            "\n",
            "7\n",
            "F1 Score (train):  0.9724288563198379\n",
            "F1 Score (validation):  0.8978534418948926\n",
            "Precision Score (train):  0.97165991902834\n",
            "Precision Score (validation):  0.8938835666912307\n",
            "Recall Score (train):  0.9731990115947539\n",
            "Recall Score (validation):  0.9018587360594795\n",
            "\n",
            "8\n",
            "F1 Score (train):  0.9709504611476225\n",
            "F1 Score (validation):  0.8980496453900709\n",
            "Precision Score (train):  0.9684367081634901\n",
            "Precision Score (validation):  0.8854895104895105\n",
            "Recall Score (train):  0.9734772978959025\n",
            "Recall Score (validation):  0.9109712230215827\n",
            "\n",
            "9\n",
            "F1 Score (train):  0.9698280098280099\n",
            "F1 Score (validation):  0.9014525139664805\n",
            "Precision Score (train):  0.9677356085123076\n",
            "Precision Score (validation):  0.8873735151781786\n",
            "Recall Score (train):  0.9719294789717325\n",
            "Recall Score (validation):  0.915985467756585\n",
            "\n"
          ]
        },
        {
          "output_type": "display_data",
          "data": {
            "text/plain": [
              "<Figure size 432x288 with 1 Axes>"
            ],
            "image/png": "[encoded data removed]"
          },
          "metadata": {
            "needs_background": "light"
          }
        }
      ]
    }
  ]
}